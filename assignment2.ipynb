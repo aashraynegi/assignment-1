{
 "cells": [
  {
   "cell_type": "code",
   "execution_count": 3,
   "id": "e3a675ef-4be4-499f-91f9-588507c4ea85",
   "metadata": {},
   "outputs": [
    {
     "name": "stdout",
     "output_type": "stream",
     "text": [
      "Hello, Aashray!\n",
      "Good morning, Aashray!\n"
     ]
    }
   ],
   "source": [
    "#1 Basic Function Implementation:\n",
    "def greet(name, greeting=\"Hello\"):\n",
    "    return f\"{greeting}, {name}!\"\n",
    "message = greet(\"Aashray\")\n",
    "print(message)  \n",
    "message2 = greet(\"Aashray\", \"Good morning\")\n",
    "print(message2)"
   ]
  },
  {
   "cell_type": "code",
   "execution_count": 5,
   "id": "09f74a69-e42f-4132-a104-b665fd9ae54a",
   "metadata": {},
   "outputs": [
    {
     "name": "stdout",
     "output_type": "stream",
     "text": [
      "Name: Aashray, Age: 21, City: Dehradun\n",
      "Name: Akansha, Age: 25, City: Lucknow\n"
     ]
    }
   ],
   "source": [
    "#2 Named arguments:\n",
    "def create_profile( *,name, age=21, city):\n",
    "    return f\"Name: {name}, Age: {age}, City: {city}\"\n",
    "profile1 = create_profile(name=\"Aashray\", city=\"Dehradun\")\n",
    "print(profile1)  \n",
    "profile2 = create_profile(name=\"Akansha\", age=25, city=\"Lucknow\")\n",
    "print(profile2)"
   ]
  },
  {
   "cell_type": "code",
   "execution_count": 7,
   "id": "d4a51f3c-22e8-4e51-b12e-f8b7a2dc7a38",
   "metadata": {},
   "outputs": [
    {
     "name": "stdout",
     "output_type": "stream",
     "text": [
      "6\n",
      "(3, {'x': 4, 'y': 5})\n"
     ]
    }
   ],
   "source": [
    "#3 **Using *args and kwargs:\n",
    "def sum_numbers(*args, **kwargs):\n",
    "    total_sum = sum(arg for arg in args if isinstance(arg, (int, float)))\n",
    "    if kwargs:\n",
    "        return total_sum, kwargs\n",
    "    else:\n",
    "        return total_sum\n",
    "print(sum_numbers(1,2,3))  \n",
    "print(sum_numbers(1,2,x=4,y=5))"
   ]
  },
  {
   "cell_type": "code",
   "execution_count": 8,
   "id": "473b7d28-53f7-4cad-ba27-f4888bbfb01d",
   "metadata": {},
   "outputs": [
    {
     "name": "stdout",
     "output_type": "stream",
     "text": [
      "[1, 4, 9, 16]\n"
     ]
    }
   ],
   "source": [
    "#4 Lambdas and map:\n",
    "def square_list(numbers):\n",
    "    return list(map(lambda x: x ** 2, numbers))\n",
    "result = square_list([1, 2, 3, 4])\n",
    "print(result)"
   ]
  },
  {
   "cell_type": "code",
   "execution_count": 9,
   "id": "6f0904c4-8c9a-4f67-8795-cca28c88507b",
   "metadata": {},
   "outputs": [
    {
     "name": "stdout",
     "output_type": "stream",
     "text": [
      "[2, 4]\n"
     ]
    }
   ],
   "source": [
    "#5 Filters and Lambdas:\n",
    "def filter_odd_numbers(numbers):\n",
    "    return list(filter(lambda x: x % 2 == 0, numbers))\n",
    "result = filter_odd_numbers([1, 2, 3, 4, 5])\n",
    "print(result)"
   ]
  },
  {
   "cell_type": "code",
   "execution_count": 10,
   "id": "11c5672a-dc21-4539-96d3-068d75cb836b",
   "metadata": {},
   "outputs": [
    {
     "name": "stdout",
     "output_type": "stream",
     "text": [
      "[0, 1, 4, 9, 16]\n"
     ]
    }
   ],
   "source": [
    "#6 Basic List Comprehension:\n",
    "squared_numbers = [x**2 for x in range(5)]\n",
    "print(squared_numbers)"
   ]
  },
  {
   "cell_type": "code",
   "execution_count": 11,
   "id": "4155fce7-a6f2-4476-b840-eb0566cb4831",
   "metadata": {},
   "outputs": [
    {
     "name": "stdout",
     "output_type": "stream",
     "text": [
      "[2, 4, 6, 8, 10, 12, 14, 16, 18, 20]\n"
     ]
    }
   ],
   "source": [
    "#7 List Comprehension with Condition:\n",
    "even_numbers = [x for x in range(1, 21) if x % 2 == 0]\n",
    "print(even_numbers)"
   ]
  },
  {
   "cell_type": "code",
   "execution_count": 12,
   "id": "0319d044-baae-4164-b754-5db54b38e359",
   "metadata": {},
   "outputs": [
    {
     "name": "stdout",
     "output_type": "stream",
     "text": [
      "Directory 'test_folder' created.\n",
      "Directory 'test_folder' deleted.\n"
     ]
    }
   ],
   "source": [
    "#8 Using os and time Modules:\n",
    "import os\n",
    "import time\n",
    "def file_operations():\n",
    "    os.makedirs(\"test_folder\", exist_ok=True)\n",
    "    print(\"Directory 'test_folder' created.\")\n",
    "    time.sleep(3)\n",
    "    os.rmdir(\"test_folder\")\n",
    "    print(\"Directory 'test_folder' deleted.\")\n",
    "file_operations()"
   ]
  },
  {
   "cell_type": "code",
   "execution_count": 13,
   "id": "a336e007-9785-4391-a190-bfebe0757ef0",
   "metadata": {},
   "outputs": [
    {
     "name": "stdout",
     "output_type": "stream",
     "text": [
      "Paused execution...\n"
     ]
    }
   ],
   "source": [
    "#9 Importing Specific Functions:\n",
    "from time import sleep as pause\n",
    "pause(2)\n",
    "print(\"Paused execution...\")"
   ]
  },
  {
   "cell_type": "code",
   "execution_count": 15,
   "id": "30151abb-0a9e-41ee-a232-e390d0d9f0ad",
   "metadata": {},
   "outputs": [
    {
     "name": "stdout",
     "output_type": "stream",
     "text": [
      "[1, 2, 3, 4, 5, 6]\n",
      "[1, 2, 3, 4, 5]\n"
     ]
    }
   ],
   "source": [
    "#10 **Recursive Function with *args and kwargs (Flattening a List):\n",
    "def flatten_list(*args):\n",
    "    result = []    \n",
    "    for element in args:\n",
    "        if isinstance(element, list):\n",
    "            result.extend(flatten_list(*element))\n",
    "        else:\n",
    "            result.append(element) \n",
    "    return result\n",
    "print(flatten_list([1,[2, 3],[[4, 5],6]]))  \n",
    "print(flatten_list([[1,2],[3,[4,[5]]]]))"
   ]
  },
  {
   "cell_type": "code",
   "execution_count": null,
   "id": "da65e187-7aba-4c86-89f7-4ce1e0cfb7ad",
   "metadata": {},
   "outputs": [],
   "source": []
  }
 ],
 "metadata": {
  "kernelspec": {
   "display_name": "Python 3 (ipykernel)",
   "language": "python",
   "name": "python3"
  },
  "language_info": {
   "codemirror_mode": {
    "name": "ipython",
    "version": 3
   },
   "file_extension": ".py",
   "mimetype": "text/x-python",
   "name": "python",
   "nbconvert_exporter": "python",
   "pygments_lexer": "ipython3",
   "version": "3.12.6"
  }
 },
 "nbformat": 4,
 "nbformat_minor": 5
}
