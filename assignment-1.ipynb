{
 "cells": [
  {
   "cell_type": "code",
   "execution_count": 1,
   "id": "b55f5d11-bd4a-4315-92f6-50a03d026a93",
   "metadata": {},
   "outputs": [
    {
     "name": "stdout",
     "output_type": "stream",
     "text": [
      "Hello,Python World\n"
     ]
    }
   ],
   "source": [
    "print(\"Hello,Python World\")"
   ]
  },
  {
   "cell_type": "code",
   "execution_count": 2,
   "id": "76ec94ba-1e84-4242-93bf-2cc24db9a7a3",
   "metadata": {},
   "outputs": [
    {
     "name": "stdin",
     "output_type": "stream",
     "text": [
      "Enter your first name:  Aashray\n",
      "Enter your last name:  Negi\n"
     ]
    },
    {
     "name": "stdout",
     "output_type": "stream",
     "text": [
      "Reversed name: igeN yarhsaA\n"
     ]
    }
   ],
   "source": [
    "# Take input for first and last name\n",
    "first_name = input(\"Enter your first name: \")\n",
    "last_name = input(\"Enter your last name: \")\n",
    "\n",
    "# Reverse the first and last name and join them with a space\n",
    "x = last_name[::-1] + \" \" + first_name[::-1]\n",
    "\n",
    "# The [::-1] is a string slicing method that reverses the string.\n",
    "# + \" \" is used to concatenate the reversed names with a space in between.\n",
    "\n",
    "# Print the reversed names\n",
    "print(\"Reversed name:\",x)"
   ]
  },
  {
   "cell_type": "code",
   "execution_count": 3,
   "id": "791c5dd7-5cc1-4ed4-8ce0-c7344935447b",
   "metadata": {},
   "outputs": [
    {
     "name": "stdin",
     "output_type": "stream",
     "text": [
      "Enter a number:  43\n"
     ]
    },
    {
     "name": "stdout",
     "output_type": "stream",
     "text": [
      "Integer: 43\n",
      "Float: 43.0\n",
      "Complex: (43+0j)\n"
     ]
    }
   ],
   "source": [
    "# Take a number as input from the user\n",
    "num = input(\"Enter a number: \")\n",
    "\n",
    "# Convert the input to an integer\n",
    "int_num = int(num)\n",
    "\n",
    "# Convert the input to a float\n",
    "float_num = float(num)\n",
    "\n",
    "# Convert the input to a complex number\n",
    "complex_num = complex(num)\n",
    "\n",
    "# Print the converted values\n",
    "print(\"Integer:\", int_num)\n",
    "print(\"Float:\", float_num)\n",
    "print(\"Complex:\", complex_num)\n",
    "\n",
    "# Explanation:\n",
    "# - Integer (int): This data type represents whole numbers without any decimal or fractional part.\n",
    "# - Float (float): This data type represents real numbers with a fractional part, indicated by a decimal point.\n",
    "# - Complex (complex): This data type represents complex numbers, which have a real part and an imaginary part. \n",
    "#   For example, '5' will be converted to (5+0j) where 'j' is the imaginary unit."
   ]
  },
  {
   "cell_type": "code",
   "execution_count": 4,
   "id": "16af58cf-ec32-4e23-8f58-d2ed84735bc3",
   "metadata": {},
   "outputs": [
    {
     "name": "stdin",
     "output_type": "stream",
     "text": [
      "Enter the length of the rectangle:  40\n",
      "Enter the width of the rectangle:  30\n"
     ]
    },
    {
     "name": "stdout",
     "output_type": "stream",
     "text": [
      "The area of the rectangle is: 1200.0\n"
     ]
    }
   ],
   "source": [
    "# Prompt the user to enter the length and width of the rectangle\n",
    "length = float(input(\"Enter the length of the rectangle: \"))\n",
    "width = float(input(\"Enter the width of the rectangle: \"))\n",
    "\n",
    "# Calculate the area of the rectangle\n",
    "area = length * width\n",
    "\n",
    "# Display the result using the print function\n",
    "print(\"The area of the rectangle is:\",area)"
   ]
  },
  {
   "cell_type": "code",
   "execution_count": 5,
   "id": "0eee3f60-14e1-45c2-a9b3-60ac140131a8",
   "metadata": {},
   "outputs": [
    {
     "name": "stdin",
     "output_type": "stream",
     "text": [
      "Enter the length of the rectangle:  32\n",
      "Enter the width of the rectangle:  21\n"
     ]
    },
    {
     "name": "stdout",
     "output_type": "stream",
     "text": [
      "The area of the rectangle is: 672.00\n"
     ]
    }
   ],
   "source": [
    "#Prompt the user to enter the length and width of the rectangle\n",
    "length = float(input(\"Enter the length of the rectangle: \"))\n",
    "width = float(input(\"Enter the width of the rectangle: \"))\n",
    "\n",
    "# Calculate the area of the rectangle\n",
    "area = length * width\n",
    "\n",
    "# Display the result using the format method to show two decimal places\n",
    "print(\"The area of the rectangle is: {:.2f}\".format(area))"
   ]
  },
  {
   "cell_type": "code",
   "execution_count": 6,
   "id": "6985fa9c-1581-4751-bd6c-2a5ee7f3cffa",
   "metadata": {},
   "outputs": [
    {
     "name": "stdin",
     "output_type": "stream",
     "text": [
      "Enter the first number:  12\n",
      "Enter the second number:  13\n",
      "Enter the third number:  14\n"
     ]
    },
    {
     "name": "stdout",
     "output_type": "stream",
     "text": [
      "The average of the three numbers is: 13.00\n"
     ]
    }
   ],
   "source": [
    "# Prompt the user to enter three numbers\n",
    "num1 = float(input(\"Enter the first number: \"))\n",
    "num2 = float(input(\"Enter the second number: \"))\n",
    "num3 = float(input(\"Enter the third number: \"))\n",
    "\n",
    "# Calculate the average of the three numbers\n",
    "average = (num1 + num2 + num3) / 3\n",
    "\n",
    "# Display the average using the % method for string formatting\n",
    "print(\"The average of the three numbers is: %.2f\"%average)"
   ]
  },
  {
   "cell_type": "code",
   "execution_count": 9,
   "id": "045d5e4d-8fe2-4e18-a2f1-fe60ebf5021e",
   "metadata": {},
   "outputs": [
    {
     "name": "stdin",
     "output_type": "stream",
     "text": [
      "Enter a number (or type 'exit' to quit):  23\n"
     ]
    },
    {
     "name": "stdout",
     "output_type": "stream",
     "text": [
      "The number is positive.\n"
     ]
    },
    {
     "name": "stdin",
     "output_type": "stream",
     "text": [
      "Enter a number (or type 'exit' to quit):  12\n"
     ]
    },
    {
     "name": "stdout",
     "output_type": "stream",
     "text": [
      "The number is positive.\n"
     ]
    },
    {
     "name": "stdin",
     "output_type": "stream",
     "text": [
      "Enter a number (or type 'exit' to quit):  -3\n"
     ]
    },
    {
     "name": "stdout",
     "output_type": "stream",
     "text": [
      "The number is negative.\n"
     ]
    },
    {
     "name": "stdin",
     "output_type": "stream",
     "text": [
      "Enter a number (or type 'exit' to quit):  0\n"
     ]
    },
    {
     "name": "stdout",
     "output_type": "stream",
     "text": [
      "The number is zero.\n"
     ]
    },
    {
     "name": "stdin",
     "output_type": "stream",
     "text": [
      "Enter a number (or type 'exit' to quit):  exit\n"
     ]
    },
    {
     "name": "stdout",
     "output_type": "stream",
     "text": [
      "Exiting the program.\n"
     ]
    }
   ],
   "source": [
    "while True:\n",
    "    # Ask the user for input\n",
    "    user_input = input(\"Enter a number (or type 'exit' to quit): \")\n",
    "\n",
    "    # Check if the user wants to exit\n",
    "    if user_input.lower() == 'exit':\n",
    "        print(\"Exiting the program.\")\n",
    "        break\n",
    "    \n",
    "    try:\n",
    "        # Convert the input to a number\n",
    "        number = float(user_input)\n",
    "        \n",
    "        # Determine if the number is positive, negative, or zero\n",
    "        if number > 0:\n",
    "            print(\"The number is positive.\")\n",
    "        elif number < 0:\n",
    "            print(\"The number is negative.\")\n",
    "        else:\n",
    "            print(\"The number is zero.\")\n",
    "    \n",
    "    except ValueError:\n",
    "        # Handle the case where the input is not a valid number\n",
    "        print(\"Invalid input. Please enter a valid number or type 'exit' to quit.\")\n"
   ]
  },
  {
   "cell_type": "code",
   "execution_count": 10,
   "id": "2dcb1a37-f8e2-4a98-8cba-6fff56af5eb1",
   "metadata": {},
   "outputs": [
    {
     "name": "stdin",
     "output_type": "stream",
     "text": [
      "Enter the first number:  12\n",
      "Enter the second number:  13\n"
     ]
    },
    {
     "name": "stdout",
     "output_type": "stream",
     "text": [
      "One number is even and the other is odd.\n"
     ]
    }
   ],
   "source": [
    "num1 = int(input(\"Enter the first number: \"))\n",
    "num2 = int(input(\"Enter the second number: \"))\n",
    "if num1 % 2 == 0 and num2 % 2 == 0:\n",
    "    print(\"Both numbers are even.\")\n",
    "elif num1 % 2 != 0 and num2 % 2 != 0:\n",
    "    print(\"Both numbers are odd.\")\n",
    "else:\n",
    "    print(\"One number is even and the other is odd.\")"
   ]
  },
  {
   "cell_type": "code",
   "execution_count": 11,
   "id": "818bb199-1eb2-4ea4-aeab-cbccb811b303",
   "metadata": {},
   "outputs": [
    {
     "name": "stdin",
     "output_type": "stream",
     "text": [
      "Enter an integer:  13\n"
     ]
    },
    {
     "name": "stdout",
     "output_type": "stream",
     "text": [
      "Binary: 0b1101\n",
      "Octal: 0o15\n",
      "Hexadecimal: 0xd\n",
      "Binary: 0b1101\n",
      "Octal: 0o15\n",
      "Hexadecimal: 0xd\n"
     ]
    }
   ],
   "source": [
    "num = int(input(\"Enter an integer: \"))\n",
    "\n",
    "# Print the binary, octal, and hexadecimal equivalents\n",
    "print(\"Binary:\", bin(num))\n",
    "print(\"Octal:\", oct(num))\n",
    "print(\"Hexadecimal:\", hex(num))\n",
    "\n",
    "# Alternatively, using a for loop to demonstrate iterating over the formats\n",
    "formats = ['Binary', 'Octal', 'Hexadecimal']\n",
    "for fmt in formats:\n",
    "    if fmt == 'Binary':\n",
    "        print(f\"{fmt}: {bin(num)}\")\n",
    "    elif fmt == 'Octal':\n",
    "        print(f\"{fmt}: {oct(num)}\")\n",
    "    elif fmt == 'Hexadecimal':\n",
    "        print(f\"{fmt}: {hex(num)}\")"
   ]
  },
  {
   "cell_type": "code",
   "execution_count": null,
   "id": "e778ae97-8cee-4f82-85d4-2c89d730e385",
   "metadata": {},
   "outputs": [],
   "source": []
  }
 ],
 "metadata": {
  "kernelspec": {
   "display_name": "Python 3 (ipykernel)",
   "language": "python",
   "name": "python3"
  },
  "language_info": {
   "codemirror_mode": {
    "name": "ipython",
    "version": 3
   },
   "file_extension": ".py",
   "mimetype": "text/x-python",
   "name": "python",
   "nbconvert_exporter": "python",
   "pygments_lexer": "ipython3",
   "version": "3.12.6"
  }
 },
 "nbformat": 4,
 "nbformat_minor": 5
}
